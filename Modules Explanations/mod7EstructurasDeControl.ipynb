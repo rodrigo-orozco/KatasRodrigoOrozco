{
 "cells": [
  {
   "cell_type": "markdown",
   "metadata": {},
   "source": [
    "# Estructuras de COntrol\n",
    "\n",
    "## Ciclo While\n",
    "\n",
    "Un ciclo `while` tiene tres partes importantes:\n",
    "\n",
    "- La palabra `while` seguida de un espacio.\n",
    "- La condición que se va a probar. Si la condición es True, se ejecutará el código dentro del ciclo `while`.\n",
    "- El código que quiere ejecutar para cada elemento iterable, seguido de espacios en blanco anidados. Por ejemplo:"
   ]
  },
  {
   "cell_type": "code",
   "execution_count": 1,
   "metadata": {},
   "outputs": [
    {
     "ename": "IndentationError",
     "evalue": "expected an indented block (Temp/ipykernel_16120/744278166.py, line 4)",
     "output_type": "error",
     "traceback": [
      "\u001b[1;36m  File \u001b[1;32m\"C:\\Users\\orozc\\AppData\\Local\\Temp/ipykernel_16120/744278166.py\"\u001b[1;36m, line \u001b[1;32m4\u001b[0m\n\u001b[1;33m    # Mientras la condición se cumpla, se ejecuta el código.\u001b[0m\n\u001b[1;37m                                                            ^\u001b[0m\n\u001b[1;31mIndentationError\u001b[0m\u001b[1;31m:\u001b[0m expected an indented block\n"
     ]
    }
   ],
   "source": [
    "while condition:\n",
    "    # lo que quieres que se ejecute\n",
    "\n",
    "# Mientras la condición se cumpla, se ejecuta el código."
   ]
  },
  {
   "cell_type": "markdown",
   "metadata": {},
   "source": [
    "Pedir a los usuarios que escriban valores y, después, escriban `done` cuando terminen de escribir los valores:"
   ]
  },
  {
   "cell_type": "code",
   "execution_count": null,
   "metadata": {},
   "outputs": [],
   "source": [
    "userInput = ''\n",
    "\n",
    "while userInput.lower() != 'done':\n",
    "    userInput = input('Enter a new value, or done when done.')"
   ]
  },
  {
   "cell_type": "markdown",
   "metadata": {},
   "source": [
    "Puedes usar la cadena recién escrita como lo haríamos con cualquier otra cadena capturada con input. Si quieres agregarla a una lista, puedes usar código similar al ejemplo siguiente:"
   ]
  },
  {
   "cell_type": "code",
   "execution_count": 4,
   "metadata": {},
   "outputs": [
    {
     "name": "stdout",
     "output_type": "stream",
     "text": [
      "['asdgasdg', 'asdgsadgsadf', 'asdgsadf', 'dgashasdg', 'sadgsadf']\n"
     ]
    }
   ],
   "source": [
    "# Creamos la variable que almacena la entrada del usuario\n",
    "userInput = ''\n",
    "\n",
    "# Creamos la lista de las entradas del usuario\n",
    "userInputList = []\n",
    "\n",
    "while userInput.lower() != 'done':\n",
    "    userInput = input('Enter a new value, or donde when done.')\n",
    "    userInputList.append(userInput)\n",
    "        \n",
    "userInputList.pop()\n",
    "\n",
    "\n",
    "print(userInputList)"
   ]
  },
  {
   "cell_type": "markdown",
   "metadata": {},
   "source": [
    "## Ciclo For\n",
    "\n",
    "Ciclo for de ejemplo que hace una cuenta atrás, de 4 a 0:"
   ]
  },
  {
   "cell_type": "code",
   "execution_count": 5,
   "metadata": {},
   "outputs": [
    {
     "name": "stdout",
     "output_type": "stream",
     "text": [
      "4\n",
      "3\n",
      "2\n",
      "1\n",
      "0\n",
      "Blast off!! 🚀\n"
     ]
    }
   ],
   "source": [
    "countdown = [4,3,2,1,0]\n",
    "\n",
    "for item in countdown:\n",
    "    print(item)\n",
    "print('Blast off!! 🚀')"
   ]
  },
  {
   "cell_type": "markdown",
   "metadata": {},
   "source": [
    "El ciclo `for` es una intrucción con cinco partes importantes: \n",
    "\n",
    "- La palabra `for`, seguida de un espacio.\n",
    "- El nombre de la variable que quieres crear para cada valor de la secuencia (number).\n",
    "- La palabra `in` entre espacios.\n",
    "- El nombre de la lista (countdown, en el ejemplo anterior) u objeto iterable que quieres recorrer en ciclo, seguido de dos puntos `(:)`.\n",
    "- El código que quieres ejecutar para cada elemento del objeto iterable, separado por espacios en blanco anidados.\n",
    "\n",
    "\n",
    "Vamos a cambiar el código anterior para que espere un segundo entre cada número mediante la función `sleep()`:"
   ]
  },
  {
   "cell_type": "code",
   "execution_count": 6,
   "metadata": {},
   "outputs": [
    {
     "name": "stdout",
     "output_type": "stream",
     "text": [
      "4\n",
      "3\n",
      "2\n",
      "1\n",
      "0\n",
      "Blast off!! 🚀\n"
     ]
    }
   ],
   "source": [
    "# De la biblioteca time, importamos la clase sleep\n",
    "\n",
    "from time import sleep\n",
    "\n",
    "# Creamos una lista de números llamada countdown\n",
    "countdown = [4,3,2,1,0]\n",
    "\n",
    "# Para cada número en countdown;\n",
    "\n",
    "for item in countdown:\n",
    "    #Muestra el número\n",
    "    print(item)\n",
    "\n",
    "    #Espera1 segundo\n",
    "    sleep(1)\n",
    "\n",
    "#Muestra el mensaje Blast Off\n",
    "print('Blast off!! 🚀')"
   ]
  }
 ],
 "metadata": {
  "interpreter": {
   "hash": "dc90aa2a9f8aebcecb7ae25ef8805dd0aea1fa32fd6a69b8548f8d5884194496"
  },
  "kernelspec": {
   "display_name": "Python 3.9.7 ('base')",
   "language": "python",
   "name": "python3"
  },
  "language_info": {
   "codemirror_mode": {
    "name": "ipython",
    "version": 3
   },
   "file_extension": ".py",
   "mimetype": "text/x-python",
   "name": "python",
   "nbconvert_exporter": "python",
   "pygments_lexer": "ipython3",
   "version": "3.9.7"
  },
  "orig_nbformat": 4
 },
 "nbformat": 4,
 "nbformat_minor": 2
}
