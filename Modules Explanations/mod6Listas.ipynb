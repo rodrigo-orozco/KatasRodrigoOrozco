{
 "cells": [
  {
   "cell_type": "markdown",
   "metadata": {},
   "source": [
    "# Introducción a las Listas\n",
    "\n",
    "## Crear una Lista\n",
    "\n",
    "Para crear una lista, debemos de asignar una secuencia de valores a una variable. Cada valor está separado por una coma y rodeado por corchetes (`[]`). En el ejemplo siguiente se almacena la lista de todos los planetas de la variable `planets`:"
   ]
  },
  {
   "cell_type": "code",
   "execution_count": 39,
   "metadata": {},
   "outputs": [],
   "source": [
    "planets = ['Mercury', 'Venus', 'Earth', 'Mars', 'Jupiter', 'Saturn', 'Uranus', 'Neptune']"
   ]
  },
  {
   "cell_type": "markdown",
   "metadata": {},
   "source": [
    "## Acceder a los elementos de la lista por índice\n",
    "\n",
    "Podemos acceder a un elemeno de una lista poniendo el índice del elemento entre `[]` después del nombre de la variable de lista. Los índices comienzan desde 0, por lo que en el siguiente código, `planets[0]` es el primer elemento de la lista `planets`:"
   ]
  },
  {
   "cell_type": "code",
   "execution_count": 40,
   "metadata": {},
   "outputs": [
    {
     "name": "stdout",
     "output_type": "stream",
     "text": [
      "The first element is:  Mercury\n",
      "The second element is:  Venus\n",
      "The third element is:  Earth\n"
     ]
    }
   ],
   "source": [
    "print('The first element is: ', planets[0])\n",
    "print('The second element is: ', planets[1])\n",
    "print('The third element is: ', planets[2])"
   ]
  },
  {
   "cell_type": "markdown",
   "metadata": {},
   "source": [
    "Podemos modificar un elemento de una lista mediante el índice, de la siguiente forma:"
   ]
  },
  {
   "cell_type": "code",
   "execution_count": 41,
   "metadata": {},
   "outputs": [
    {
     "name": "stdout",
     "output_type": "stream",
     "text": [
      "The fourth planet Mars is also known as:  Red Planet\n"
     ]
    }
   ],
   "source": [
    "planets[3] = 'Red Planet'\n",
    "print('The fourth planet Mars is also known as: ', planets[3])"
   ]
  },
  {
   "cell_type": "markdown",
   "metadata": {},
   "source": [
    "## Determinar la longitud de la Lista\n",
    "\n",
    "Podemos usar la función `len` para obtener la longitud de una lista:"
   ]
  },
  {
   "cell_type": "code",
   "execution_count": 42,
   "metadata": {},
   "outputs": [
    {
     "name": "stdout",
     "output_type": "stream",
     "text": [
      "There are 8 planets in the spolar system.\n"
     ]
    }
   ],
   "source": [
    "number_of_planets = len(planets)\n",
    "print(f'There are {number_of_planets} planets in the spolar system.')"
   ]
  },
  {
   "cell_type": "markdown",
   "metadata": {},
   "source": [
    "## Agregar valores a las Listas\n",
    "\n",
    "Las listas en Python son dinámicas. Es decir, puedes agregar y quitar elementos después de crearlos. Para agregar un elemento a una lista, podemos utilizar el método `.append(value)`.\n",
    "\n",
    "El código siguiente agrega la cadena `'Pluto'` al final de la lista `planets`:"
   ]
  },
  {
   "cell_type": "code",
   "execution_count": 43,
   "metadata": {},
   "outputs": [
    {
     "name": "stdout",
     "output_type": "stream",
     "text": [
      "There are actually 9 planets in the solar system.\n"
     ]
    }
   ],
   "source": [
    "planets.append('Pluto')\n",
    "number_of_planets = len(planets)\n",
    "print(f'There are actually {number_of_planets} planets in the solar system.')"
   ]
  },
  {
   "cell_type": "markdown",
   "metadata": {},
   "source": [
    "## Eliminar valores de una Lista\n",
    "\n",
    "Podemos eliminar el último elemento de una lista llamando al método `.pop()` de la variable de la lista:"
   ]
  },
  {
   "cell_type": "code",
   "execution_count": 44,
   "metadata": {},
   "outputs": [
    {
     "name": "stdout",
     "output_type": "stream",
     "text": [
      "No, there are definitely 8 planets in the solar system.\n"
     ]
    }
   ],
   "source": [
    "planets.pop() # Goodbye, Pluto\n",
    "number_of_planets = len(planets)\n",
    "print(f'No, there are definitely {number_of_planets} planets in the solar system.')"
   ]
  },
  {
   "cell_type": "markdown",
   "metadata": {},
   "source": [
    "## Ìndices Negativos\n",
    "\n",
    "Los índices negativos comienzan al final de la lista y trabajan hacia atrás.\n",
    "\n",
    "En el ejemplo siguiente, un índice de `-1` devuelve el último elemento de una lista. Un índice de `-2` retorna el penúltimo."
   ]
  },
  {
   "cell_type": "code",
   "execution_count": 45,
   "metadata": {},
   "outputs": [
    {
     "name": "stdout",
     "output_type": "stream",
     "text": [
      "The last planet is Neptune\n",
      "The last but one planet is Uranus\n"
     ]
    }
   ],
   "source": [
    "print(f'The last planet is {planets[-1]}')\n",
    "print(f'The last but one planet is {planets[-2]}')"
   ]
  },
  {
   "cell_type": "markdown",
   "metadata": {},
   "source": [
    "## Buscar un valor en una Lista\n",
    "\n",
    "Para buscar un valor en una lista, usamos el método `index()` de la lista. Este método busca el valor y devuelve el índice de ese elemento en la lista. Si no se encuentra una coincidencia, devuelve el valor `-1`.\n",
    "\n",
    "En el ejemplo siguiente se muestra el uso de 'Jupiter' como valor de índice."
   ]
  },
  {
   "cell_type": "code",
   "execution_count": 46,
   "metadata": {},
   "outputs": [
    {
     "name": "stdout",
     "output_type": "stream",
     "text": [
      "Jupiter is the 5 planet in the solar system.\n"
     ]
    }
   ],
   "source": [
    "jupiterIndex = planets.index('Jupiter')\n",
    "print(f'Jupiter is the {jupiterIndex + 1} planet in the solar system.')"
   ]
  },
  {
   "cell_type": "markdown",
   "metadata": {},
   "source": [
    "## Trabajar con Números en Listas\n",
    "\n",
    "### Almacenar números en Listas\n",
    "\n",
    "Para almacenar números con decimales, utiliamos el tipo `float`. Para crear un float, introduzca el número con el decimal y asígnelo a una variable:"
   ]
  },
  {
   "cell_type": "code",
   "execution_count": 47,
   "metadata": {},
   "outputs": [],
   "source": [
    "gravityOnEarth = 1.0\n",
    "gravityOnTheMoon = 0.166"
   ]
  },
  {
   "cell_type": "markdown",
   "metadata": {},
   "source": [
    "Crearemos una lista que incluya las fuerzas gravitacionales de los 8 planetas en el sistemas solar, en G:"
   ]
  },
  {
   "cell_type": "code",
   "execution_count": 48,
   "metadata": {},
   "outputs": [],
   "source": [
    "gravityOnPlanets = [0.378, 0.907, 1.0, 0.379, 2.36, 0.916, 0.889, 1.12]"
   ]
  },
  {
   "cell_type": "markdown",
   "metadata": {},
   "source": [
    "En el siguiente ejemplo, podemos calcular el peso de un bus de dos pisos en diferentes planetas obteniendo el valor de la lista:"
   ]
  },
  {
   "cell_type": "code",
   "execution_count": 49,
   "metadata": {},
   "outputs": [
    {
     "name": "stdout",
     "output_type": "stream",
     "text": [
      "On Earth, a double-decker bus weighs 12650 kg.\n",
      "On Mercury, a double-decker bus weighs 4781.7 kg.\n"
     ]
    }
   ],
   "source": [
    "busWeight = 12650 ## In kg, On Earth\n",
    "\n",
    "print(f'On Earth, a double-decker bus weighs {busWeight} kg.')\n",
    "print(f'On Mercury, a double-decker bus weighs {busWeight * gravityOnPlanets[0]} kg.')"
   ]
  },
  {
   "cell_type": "markdown",
   "metadata": {},
   "source": [
    "### min() y max() con listas\n",
    "\n",
    "Podemos calcular los números más grandes y más pequeños de una lista. `max()` devuelve el número más grande y `min()` devuelve el más pequeño."
   ]
  },
  {
   "cell_type": "code",
   "execution_count": 51,
   "metadata": {},
   "outputs": [
    {
     "name": "stdout",
     "output_type": "stream",
     "text": [
      "On Earth, a double-decker bus weighs 12650 kg.\n",
      "The lightest a bus would be in the solar sytem is: 4781.7 kg.\n",
      "The heaviest a bus would be in the solar system is: 29854.0 kg.\n"
     ]
    }
   ],
   "source": [
    "busWeight = 12650\n",
    "\n",
    "print(f'On Earth, a double-decker bus weighs {busWeight} kg.')\n",
    "print(f'The lightest a bus would be in the solar sytem is: {busWeight * min(gravityOnPlanets)} kg.')\n",
    "print(f'The heaviest a bus would be in the solar system is: {busWeight * max(gravityOnPlanets)} kg.')"
   ]
  },
  {
   "cell_type": "markdown",
   "metadata": {},
   "source": [
    "## Manipular datos de Lista\n",
    "\n",
    "### Slice List\n",
    "\n",
    "Puedes recuperar una parte de una lista mediante un `slice()` (Podemos entender slice como una porción, un pedacito, un fragmento, segmento). `Slice` utiliza corchetes, pero en lugar de un solo elemento, tiene los índices inicial y final de los elementos que queremos recuperar. Cuando usamos `slice`, se crea una nueva lista que comienza con el índice inicial y que termina antes (Y NO INCLUYE) el índice final.\n",
    "\n",
    "La lista de planetas tiene 8 elementos. La Tierra es la tercera en la lista. Para obtener los planetas antes que la Tierra, use un `slice` para obtener los elementos que comienzan en 0 y terminan en 2:"
   ]
  },
  {
   "cell_type": "code",
   "execution_count": 53,
   "metadata": {},
   "outputs": [
    {
     "name": "stdout",
     "output_type": "stream",
     "text": [
      "['Mercury', 'Venus']\n"
     ]
    }
   ],
   "source": [
    "planetsBeforeEarth = planets[0:2]\n",
    "print(planetsBeforeEarth)"
   ]
  },
  {
   "cell_type": "markdown",
   "metadata": {},
   "source": [
    "Obteniendo los plantes depués de la Tierra:"
   ]
  },
  {
   "cell_type": "code",
   "execution_count": 55,
   "metadata": {},
   "outputs": [
    {
     "name": "stdout",
     "output_type": "stream",
     "text": [
      "['Red Planet', 'Jupiter', 'Saturn', 'Uranus', 'Neptune']\n"
     ]
    }
   ],
   "source": [
    "planetsAfterEarth = planets[3:]\n",
    "print(planetsAfterEarth)"
   ]
  },
  {
   "cell_type": "markdown",
   "metadata": {},
   "source": [
    "### Uniendo Listas\n",
    "\n",
    "¿Cómo podemos unir listas que han sido separadas por un slice?\n",
    "\n",
    "Para unir listas, debemos usar el operador `+` con dos listas para devolver una nueva lista.\n",
    "\n",
    "Hay 79 lunas conocidas de Júpiter. Las cuatro más grandes son Io, Europa, Ganímedes y Calisto. Estas se llaman las lunas galileanas, porque Galileo Galilei las descubrió usando su telescopio en 1610. Más cerca de Júpiter que del grupo galileo está el grupo de Amaltea. Consiste en las lunas Metis, Adrastea, Amaltea y Teba.\n",
    "\n",
    "Crearemos dos diferentes listas par cada gupo, luego las uniremos de la siguiente forma:"
   ]
  },
  {
   "cell_type": "code",
   "execution_count": 56,
   "metadata": {},
   "outputs": [
    {
     "name": "stdout",
     "output_type": "stream",
     "text": [
      "['Metis', 'Adrastea', 'Amaltea', 'Teba', 'Io', 'Europa', 'Ganimedes', 'Calisto']\n"
     ]
    }
   ],
   "source": [
    "amaltheaGroup = ['Metis', 'Adrastea', 'Amaltea', 'Teba']\n",
    "galileanGroup = ['Io', 'Europa', 'Ganimedes', 'Calisto']\n",
    "\n",
    "someJupiterMoons = amaltheaGroup + galileanGroup\n",
    "\n",
    "print(someJupiterMoons)"
   ]
  },
  {
   "cell_type": "markdown",
   "metadata": {},
   "source": [
    "### Ordenar Listas\n",
    "\n",
    "Para ordenar una lista usamos el método `sort()`. Python ordenará la lista de cadenas en orden alfabético y una lista de números en orden numérico:"
   ]
  },
  {
   "cell_type": "code",
   "execution_count": 57,
   "metadata": {},
   "outputs": [
    {
     "name": "stdout",
     "output_type": "stream",
     "text": [
      "Some Jupiter Moons are: ['Adrastea', 'Amaltea', 'Calisto', 'Europa', 'Ganimedes', 'Io', 'Metis', 'Teba']\n"
     ]
    }
   ],
   "source": [
    "someJupiterMoons.sort()\n",
    "\n",
    "print(f'Some Jupiter Moons are: {someJupiterMoons}')"
   ]
  },
  {
   "cell_type": "markdown",
   "metadata": {},
   "source": [
    "Para ordenar una lista en forma inversa:"
   ]
  },
  {
   "cell_type": "code",
   "execution_count": 58,
   "metadata": {},
   "outputs": [
    {
     "name": "stdout",
     "output_type": "stream",
     "text": [
      "Some Jupiter Moons are: ['Teba', 'Metis', 'Io', 'Ganimedes', 'Europa', 'Calisto', 'Amaltea', 'Adrastea']\n"
     ]
    }
   ],
   "source": [
    "someJupiterMoons.sort(reverse=True)\n",
    "\n",
    "print(f'Some Jupiter Moons are: {someJupiterMoons}')"
   ]
  }
 ],
 "metadata": {
  "interpreter": {
   "hash": "dc90aa2a9f8aebcecb7ae25ef8805dd0aea1fa32fd6a69b8548f8d5884194496"
  },
  "kernelspec": {
   "display_name": "Python 3.9.7 ('base')",
   "language": "python",
   "name": "python3"
  },
  "language_info": {
   "codemirror_mode": {
    "name": "ipython",
    "version": 3
   },
   "file_extension": ".py",
   "mimetype": "text/x-python",
   "name": "python",
   "nbconvert_exporter": "python",
   "pygments_lexer": "ipython3",
   "version": "3.9.7"
  },
  "orig_nbformat": 4
 },
 "nbformat": 4,
 "nbformat_minor": 2
}
