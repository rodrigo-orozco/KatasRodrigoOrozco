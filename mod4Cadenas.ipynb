{
 "cells": [
  {
   "cell_type": "markdown",
   "metadata": {},
   "source": [
    "# Cadenas en Python\n",
    "\n",
    "Aunque las cadenas en Python parecen ser simples y directas, hay cierta complejidad en las reglas de cadena que es importante comprender. Conocer estas reglas nos ayuda a no ser sorprendidos por el comportamiento de las cadenas cuando modificamos o damos formato al texto."
   ]
  },
  {
   "cell_type": "markdown",
   "metadata": {},
   "source": [
    "### Inmutabilidad de las Cadenas\n",
    "\n",
    "En Python, las cadenas son inmutables. Es decir, no se pueden cambiar. Puede ser sorprendente, porque Python no te da errores cuando alteras las cadenas.\n",
    "Veamos este ejemplo:"
   ]
  },
  {
   "cell_type": "markdown",
   "metadata": {},
   "source": [
    "Si queremos agregarle al fact otro dato, tendremos que concatenarlo (+) al dato que teníamos antes, lo que no está cambiando realmente a la cadena original, sino que está agregando otro valor (cadena) más."
   ]
  },
  {
   "cell_type": "code",
   "execution_count": null,
   "metadata": {},
   "outputs": [],
   "source": [
    "fact = 'The Moon has no atmosphere.'\n",
    "fact + 'No sound can be heard on the Moon.'"
   ]
  },
  {
   "cell_type": "markdown",
   "metadata": {},
   "source": [
    "Pero si notamos, el dato 'fact' no ha cambiado, para demostrarlo, vamos a ejectutar solo esa cadena:"
   ]
  },
  {
   "cell_type": "code",
   "execution_count": null,
   "metadata": {},
   "outputs": [],
   "source": [
    "fact"
   ]
  },
  {
   "cell_type": "markdown",
   "metadata": {},
   "source": [
    "Para poder guardar la concatenación de dos cadenas o más, debemos guardar esas concatenaciones dentro de otra variable para que la podamos utilizar más adelante."
   ]
  },
  {
   "cell_type": "code",
   "execution_count": null,
   "metadata": {},
   "outputs": [],
   "source": [
    "two_facts = fact + 'No sound can be heard on the Moon'\n",
    "two_facts"
   ]
  },
  {
   "cell_type": "markdown",
   "metadata": {},
   "source": [
    "- Las operaciones en cadenas siempre producen nuevas cadenas"
   ]
  },
  {
   "cell_type": "markdown",
   "metadata": {},
   "source": [
    "### Uso de Comillas\n",
    "\n",
    "Podemos incluir cadenas en Python entre comillas simples, dobles o triples. Aunque se pueden usar indistintamente, es mejor usar un tipo de manera consistente dentro de un proyecto.\n",
    "\n",
    "Sin embargo, es importante que si dentro de una cadena se utilizarán un tipo de comillas, encierres esa cadena con otro tipo. Ver el siguiente ejemplo:"
   ]
  },
  {
   "cell_type": "code",
   "execution_count": null,
   "metadata": {},
   "outputs": [],
   "source": [
    "print('The \"near side\" is the side of the Moon that faces the Earth.')\n",
    "print(\"We only can see about 60% of the Moon's surface.\")\n",
    "print(\"\"\"We only see about 60% of the Moon's surface, this is known as the \"near side\".\"\"\")"
   ]
  },
  {
   "cell_type": "markdown",
   "metadata": {},
   "source": [
    "## Métodos string en Python\n",
    "\n",
    "A menudo tendremos que manipular los métodos string en Python para extraer información o ajustarnos a un formato determinado.\n",
    "\n",
    "Los métodos de cadenas forman parte del tipo `str`. Esto significa que los métodos existen como variables de cadena o parte de la cadena directamente. Por ejemplo, el método `.title()` se puede utilizar con una cadena directamente:"
   ]
  },
  {
   "cell_type": "code",
   "execution_count": null,
   "metadata": {},
   "outputs": [],
   "source": [
    "'temperatures and facts about the Moon'.title()"
   ]
  },
  {
   "cell_type": "markdown",
   "metadata": {},
   "source": [
    "Podemos tener el mismo comportamiento en una variable:"
   ]
  },
  {
   "cell_type": "code",
   "execution_count": null,
   "metadata": {},
   "outputs": [],
   "source": [
    "heading = 'temperatures and facts about the moon'\n",
    "heading.title()"
   ]
  },
  {
   "cell_type": "markdown",
   "metadata": {},
   "source": [
    "### Dividir una Cadena\n",
    "\n",
    "Un método de cadena común es `split()`. Sin argumentos, el método separará la cadena en cada espacio. Esto creará una lista de cada palabra o número que está separado por un espacio:"
   ]
  },
  {
   "cell_type": "code",
   "execution_count": null,
   "metadata": {},
   "outputs": [],
   "source": [
    "temperatures = '''Daylight: 260 F\n",
    "... Nightime: -280 F'''\n",
    "\n",
    "temperatures.split()"
   ]
  },
  {
   "cell_type": "markdown",
   "metadata": {},
   "source": [
    "Si observamos el ejemplo, tenemos varias líneas, podemos usar el carácter de nueva línea `('\\n')` como argumento para dividir la cadena al final de cada línea:"
   ]
  },
  {
   "cell_type": "code",
   "execution_count": null,
   "metadata": {},
   "outputs": [],
   "source": [
    "temperatures.split('\\n')"
   ]
  },
  {
   "cell_type": "markdown",
   "metadata": {},
   "source": [
    "Esta división es útil cuando:\n",
    "- Necesitamos un bucle para procesar o extraer información.\n",
    "- Estamos cargando datos de un archivo de texto u otro recurso."
   ]
  },
  {
   "cell_type": "markdown",
   "metadata": {},
   "source": [
    "### Buscar una Cadena\n",
    "\n",
    "Supongamos que tenemos dos oraciones que discuten las temperaturas en varios planetas y lunas, pero solo nos interesan las temperaturas que estén relacionadas con nuestra Luna. Es decir, si las frases no hablan de la Luna, no deben procesarse para extraer información.\n",
    "\n",
    "Hay una forma muy fácil de descubrir si existe una palabra dentro de una cadena sin usar métodos:"
   ]
  },
  {
   "cell_type": "code",
   "execution_count": null,
   "metadata": {},
   "outputs": [],
   "source": [
    "'Moon' in 'This text will describe facts and challenges with space travel'"
   ]
  },
  {
   "cell_type": "code",
   "execution_count": null,
   "metadata": {},
   "outputs": [],
   "source": [
    "'Moon' in 'This text will describe facts about the Moon'"
   ]
  },
  {
   "cell_type": "markdown",
   "metadata": {},
   "source": [
    "Podemos encontrar la posición de una palabra específica usando el método `.find()`. Este método devuelve -1 cuando no se encuentra la palabra en la cadena y devuelve el índice (el número que representa el lugar de la cadena), cuando sí se encuentra:"
   ]
  },
  {
   "cell_type": "code",
   "execution_count": null,
   "metadata": {},
   "outputs": [],
   "source": [
    "temperatures = \"\"\"Saturn has a daytime temperature of -170 degrees Celsius,\n",
    "... while Mars has a -28 degrees Celsius.\"\"\"\n",
    "\n",
    "temperatures.find('Moon')"
   ]
  },
  {
   "cell_type": "code",
   "execution_count": null,
   "metadata": {},
   "outputs": [],
   "source": [
    "temperatures.find('Mars') ## 64 es la posición donde aparece la palabra 'Mars'"
   ]
  },
  {
   "cell_type": "markdown",
   "metadata": {},
   "source": [
    "El método `count()` devuelve el número total de apariciones de una determinada palabra en una cadena:"
   ]
  },
  {
   "cell_type": "code",
   "execution_count": null,
   "metadata": {},
   "outputs": [],
   "source": [
    "temperatures.count('Moon')"
   ]
  },
  {
   "cell_type": "code",
   "execution_count": null,
   "metadata": {},
   "outputs": [],
   "source": [
    "temperatures.count('Mars')"
   ]
  },
  {
   "cell_type": "markdown",
   "metadata": {},
   "source": [
    "`.lower()` --> Convertir una cadena a puras letras minúsculas.\n",
    "\n",
    "`.upper()` --> Convertir una cadena a puras letras mayúsculas."
   ]
  },
  {
   "cell_type": "code",
   "execution_count": null,
   "metadata": {},
   "outputs": [],
   "source": [
    "'The Moon and The Earth'.lower()"
   ]
  },
  {
   "cell_type": "code",
   "execution_count": null,
   "metadata": {},
   "outputs": [],
   "source": [
    "'The moon and the Earth'.upper()"
   ]
  },
  {
   "cell_type": "markdown",
   "metadata": {},
   "source": [
    "### Comprobar el Contenido\n",
    "\n",
    "Procesaremos la siguiente cadena, es muy sencilla de procesar:"
   ]
  },
  {
   "cell_type": "code",
   "execution_count": null,
   "metadata": {},
   "outputs": [],
   "source": [
    "temperatures = 'Mars Average Temperature : -60 C'"
   ]
  },
  {
   "cell_type": "markdown",
   "metadata": {},
   "source": [
    "Para extraer la temperatura promedio en Marte, lo podemos hacer de la siguiente manera:"
   ]
  },
  {
   "cell_type": "code",
   "execution_count": null,
   "metadata": {},
   "outputs": [],
   "source": [
    "parts = temperatures.split(':')\n",
    "\n",
    "parts"
   ]
  },
  {
   "cell_type": "code",
   "execution_count": null,
   "metadata": {},
   "outputs": [],
   "source": [
    "parts[-1] # Devuelve el útlimo elemento (Temperatura)"
   ]
  },
  {
   "cell_type": "markdown",
   "metadata": {},
   "source": [
    "Si el texto es irregular, debemos iterar por toda la cadenas hasta encontrar el tipo de dato que estamos buscando. Podemos comprobar el tipo de cadena mediante varios métodos:"
   ]
  },
  {
   "cell_type": "code",
   "execution_count": null,
   "metadata": {},
   "outputs": [],
   "source": [
    "marsTemperature = 'The highest temperature in Mars is about 30 C'\n",
    "\n",
    "for item in marsTemperature.split():\n",
    "    if item.isnumeric():\n",
    "        print(item)"
   ]
  },
  {
   "cell_type": "markdown",
   "metadata": {},
   "source": [
    "También podemos comprobar si una cadena tiene decimales:"
   ]
  },
  {
   "cell_type": "code",
   "execution_count": null,
   "metadata": {},
   "outputs": [],
   "source": [
    "marsTemperature = 'The highest temperature in Mars is around 30 C to 32.8 C'"
   ]
  },
  {
   "cell_type": "code",
   "execution_count": null,
   "metadata": {},
   "outputs": [],
   "source": [
    "for item in marsTemperature.split():\n",
    "    if item.isdecimal():\n",
    "        print(item)"
   ]
  },
  {
   "cell_type": "markdown",
   "metadata": {},
   "source": [
    "Hay validaciones adicionales para cuando queremos comprobar si hay valores. Para los número negativos, el guión está prefijadoal número, y eso se puede detectar con el método `.startswith()`."
   ]
  },
  {
   "cell_type": "code",
   "execution_count": null,
   "metadata": {},
   "outputs": [],
   "source": [
    "'-60'.startswith('-')"
   ]
  },
  {
   "cell_type": "markdown",
   "metadata": {},
   "source": [
    "El método `.endswith()` ayuda a verificar el útlimo carácter de una cadena:"
   ]
  },
  {
   "cell_type": "code",
   "execution_count": null,
   "metadata": {},
   "outputs": [],
   "source": [
    "if \"30 C\".endswith(\"C\"):\n",
    "    print(\"This temperature is in Celsius\")"
   ]
  },
  {
   "cell_type": "markdown",
   "metadata": {},
   "source": [
    "### Transformar Texto\n",
    "\n",
    "Hay métodos que pueden ayudar en situaciones en las que el texto necesita ser transformado en otra cosa.\n",
    "\n",
    "`.replace()` --> Buscar y reemplazar apariciones de un carácter o grupo de caracteres:"
   ]
  },
  {
   "cell_type": "code",
   "execution_count": null,
   "metadata": {},
   "outputs": [],
   "source": [
    "'Saturn has a daytime temperature of -170 degrees Celsius, while Mars has -28 Celsius'.replace('Celsius', 'C')"
   ]
  },
  {
   "cell_type": "markdown",
   "metadata": {},
   "source": [
    "Así como el método `.split()` puede separar una cadena, `.join()` puede volver a unirla.\n",
    "\n",
    "El método `.join()` requiere un iterable (como una lista de Python) como argumento, por lo que su uso se ve diferente de otros métodos de cadena:"
   ]
  },
  {
   "cell_type": "code",
   "execution_count": null,
   "metadata": {},
   "outputs": [],
   "source": [
    "moon_facts = ['The Moon is drifting away from Earth.', 'On average, the Moon is moving about 4cm every year.']\n",
    "'\\n'.join(moon_facts) ## `\\n` se utiliza para unir todos los elementos de la lista."
   ]
  },
  {
   "cell_type": "markdown",
   "metadata": {},
   "source": [
    "### Formateo de cadenas en Python\n",
    "\n",
    "Para formatear un dato o cadena en Python, usamos %.\n",
    "\n",
    "El marcador de posición es %s, y la variable se pasa al texto después del carácter % fuera de la cadena. A continuación te explico cómo dar formato mediante el uso del carácter %:"
   ]
  },
  {
   "cell_type": "code",
   "execution_count": null,
   "metadata": {},
   "outputs": [],
   "source": [
    "massPercentage = '1/6'\n",
    "print('On the Moon, you would weigh about %s of your weight on Earth' % massPercentage)"
   ]
  },
  {
   "cell_type": "markdown",
   "metadata": {},
   "source": [
    "Para usar múltiples valores, debemos de cambiar un poquito la sintáxis:"
   ]
  },
  {
   "cell_type": "code",
   "execution_count": null,
   "metadata": {},
   "outputs": [],
   "source": [
    "print(\"\"\"Both sides of the %s get the same amount of sunlight, \n",
    "but only one side is seen from %s because\n",
    "the %s rotates around its own axis when it orbits %s\"\"\" % ('Moon', 'Earth', 'Moon', 'Earth'))"
   ]
  },
  {
   "cell_type": "markdown",
   "metadata": {},
   "source": [
    "#### Otras opciones para dar formato"
   ]
  },
  {
   "cell_type": "markdown",
   "metadata": {},
   "source": [
    "`.format()` --> Utiliza llaves ({}) como marcadores de posición dentro de una cadena y utiliza la asignación de variables para reemplazar el texto."
   ]
  },
  {
   "cell_type": "code",
   "execution_count": null,
   "metadata": {},
   "outputs": [],
   "source": [
    "massPercentage = '1/6'\n",
    "print(\"On the Moon, you would weigh about {} of your weight on Earth\".format(massPercentage))"
   ]
  },
  {
   "cell_type": "markdown",
   "metadata": {},
   "source": [
    "Con varias variables:"
   ]
  },
  {
   "cell_type": "code",
   "execution_count": null,
   "metadata": {},
   "outputs": [],
   "source": [
    "print(\"\"\"You are lighter in the {0}, because in the {0}\n",
    "... you would weigh about {1} of your weight on Earth\"\"\".format(\"Moon\", massPercentage))"
   ]
  },
  {
   "cell_type": "code",
   "execution_count": null,
   "metadata": {},
   "outputs": [],
   "source": [
    "print(\"\"\"You are lighter on the {moon}, because on the {moon} \n",
    "... you would weigh about {mass} of your weight on Earth\"\"\".format(moon = \"Moon\", mass = massPercentage))"
   ]
  },
  {
   "cell_type": "markdown",
   "metadata": {},
   "source": [
    "#### Cadenas con f\n",
    "\n",
    "**f-strings** => Estas cadenas parecen plantillas con las mismas variables con nombre que las del código. \n",
    "\n",
    "- Las variables van dentro de llaves y la cadena debe llevar el prefijo f'.\n",
    "\n",
    "El uso de f-strings en el ejemplo anterios se vería así:"
   ]
  },
  {
   "cell_type": "code",
   "execution_count": null,
   "metadata": {},
   "outputs": [],
   "source": [
    "print(f'On the Moon, you would weigh about {massPercentage} of your weight on Earth.')"
   ]
  },
  {
   "cell_type": "markdown",
   "metadata": {},
   "source": [
    "Si queremos representar el valor 1/6 como un porcentaje con un decimal, podemos utilizar la función round() dentro del texto formateado:"
   ]
  },
  {
   "cell_type": "code",
   "execution_count": null,
   "metadata": {},
   "outputs": [],
   "source": [
    "print(f'On the Moon, you would weigh about {round(100/6, 1)}% of your weight on Earth.')"
   ]
  },
  {
   "cell_type": "markdown",
   "metadata": {},
   "source": [
    "El uso de una expresión no requiere una llamada a una función. Cualquiera de los métodos de cadena también son válidos. Por ejemplo, la cadena podría imponer un estilo de escritura específico para crear un título:"
   ]
  },
  {
   "cell_type": "code",
   "execution_count": 62,
   "metadata": {},
   "outputs": [
    {
     "data": {
      "text/plain": [
       "'Interesting Facts About The Moon'"
      ]
     },
     "execution_count": 62,
     "metadata": {},
     "output_type": "execute_result"
    }
   ],
   "source": [
    "subject = 'interesting facts about the moon'\n",
    "f'{subject.title()}'"
   ]
  }
 ],
 "metadata": {
  "interpreter": {
   "hash": "f9f85f796d01129d0dd105a088854619f454435301f6ffec2fea96ecbd9be4ac"
  },
  "kernelspec": {
   "display_name": "Python 3.9.5 64-bit",
   "language": "python",
   "name": "python3"
  },
  "language_info": {
   "codemirror_mode": {
    "name": "ipython",
    "version": 3
   },
   "file_extension": ".py",
   "mimetype": "text/x-python",
   "name": "python",
   "nbconvert_exporter": "python",
   "pygments_lexer": "ipython3",
   "version": "3.9.7"
  },
  "orig_nbformat": 4
 },
 "nbformat": 4,
 "nbformat_minor": 2
}
