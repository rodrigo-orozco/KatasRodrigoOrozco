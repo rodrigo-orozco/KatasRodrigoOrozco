{
 "cells": [
  {
   "cell_type": "markdown",
   "metadata": {},
   "source": [
    "# Tipos de Datos\n",
    "Una variable asume un tipo de dato, los tipos de datos pueden ser:\n",
    "\n",
    "|Tipo|Descripción|Ejemplo|\n",
    "|----|-----------|-------|\n",
    "|Tipo Numérico|Número entero o con decimales|int, float, complex, no = 1|\n",
    "|Tipo de Texto|Cadena de caracteres|str = \"a literal string\"|\n",
    "|Tipo Booleano|Booleano|continue = True|"
   ]
  },
  {
   "cell_type": "markdown",
   "metadata": {},
   "source": [
    "Podemos saber qué tipo de dato es algo si observamos bien el valor, o bien, usando la función type():"
   ]
  },
  {
   "cell_type": "code",
   "execution_count": null,
   "metadata": {},
   "outputs": [],
   "source": [
    "# Declaramos la variable\n",
    "distancia_a_alpha_centauri = 4.367 # años luz\n",
    "\n",
    "# Descubrimos su tipo de dato\n",
    "type(distancia_a_alpha_centauri)"
   ]
  },
  {
   "cell_type": "markdown",
   "metadata": {},
   "source": [
    "# Fechas\n",
    "- Una fecha en un programa generalmente significa tanto la fecha del calendario como la hora.\n",
    "\n",
    "Una fecha se puede utilizar en varias aplicaciones, como por ejemplo:\n",
    "- **Archivo de copia de seguridad.** Usar una fecha como parte del nombre de un archivo de copia de seguridad es una buena manera de indicar cuando se realizó una copia de seguridad y cuándo debe realizarse nuevamente.\n",
    "- **Condición.** Es posible que desee llevar una lógica específica cuando hay una fecha determinada.\n",
    "- **Métrica.** Las fechas se utilizan para comprobar el rendimiento del código para, por ejemplo, medir el tiempo que se tarda en ejecutar una función.\n",
    "\n",
    "Para trabajar con una fecha, se debe importar el módulo `date`:\n",
    "\n",
    "`from datetime import date`\n",
    "\n",
    "Para obtener la fecha de hoy, podemos llamar a la función `today()`\n",
    "\n",
    "`date.today()`\n",
    "\n",
    "Podemos mostrar la fecha de hoy a través de un `print()`:\n",
    "\n",
    "`print(date.today())`"
   ]
  },
  {
   "cell_type": "code",
   "execution_count": null,
   "metadata": {},
   "outputs": [],
   "source": [
    "# Importamos la biblioteca\n",
    "from datetime import date\n",
    "\n",
    "# Obtenemos la fecha de hoy\n",
    "date.today()\n",
    "\n",
    "# Mostramos la fecha en la consola\n",
    "print(date.today())"
   ]
  },
  {
   "cell_type": "markdown",
   "metadata": {},
   "source": [
    "# Conversión de Tipos de Datos\n",
    "\n",
    "Para mostrar la fecha en un mensaje con otra cadena de texto, debemos convertir la fecha en texto, de la siguiente manera:\n",
    "\n",
    "`print(\"Today's date is: \" + str(date.today())`"
   ]
  },
  {
   "cell_type": "code",
   "execution_count": null,
   "metadata": {},
   "outputs": [],
   "source": [
    "print(\"Today's date is: \" + str(date.today()))"
   ]
  },
  {
   "cell_type": "markdown",
   "metadata": {},
   "source": [
    "# Recopilar Información\n",
    "\n",
    "Estudiaremos como podemos recopilar datos tanto de la línea de comandos como de la entrada del usuario.\n",
    "\n",
    "## Entrada del Usuario\n",
    "\n",
    "El programa le puede decir al usuario que ingrese información. El programa guarda los datos introducidos en una variable y, a continuación, actúe en consecuencia. Esto usando la función `input()`:"
   ]
  },
  {
   "cell_type": "code",
   "execution_count": null,
   "metadata": {},
   "outputs": [],
   "source": [
    "print(\"Bienvenido al programa de bienvenida\")\n",
    "name = input(\"Introduzca su nombre: \")\n",
    "print(\"Saludos: \" + name)"
   ]
  },
  {
   "cell_type": "markdown",
   "metadata": {},
   "source": [
    "### Trabajar con números\n",
    "\n",
    "Para obtener números del usuario y que el programa los trate como números y no como strings, debemos de cambiar los tipos de datos de cadenas a int, de la siguiente forma:"
   ]
  },
  {
   "cell_type": "code",
   "execution_count": null,
   "metadata": {},
   "outputs": [],
   "source": [
    "print(\"Calculadora\")\n",
    "first_number = input(int(\"Primer número: \"))\n",
    "second_number = input(int(\"Segundo número: \"))\n",
    "print(first_number + second_number)"
   ]
  }
 ],
 "metadata": {
  "interpreter": {
   "hash": "dc90aa2a9f8aebcecb7ae25ef8805dd0aea1fa32fd6a69b8548f8d5884194496"
  },
  "kernelspec": {
   "display_name": "Python 3.9.7 ('base')",
   "language": "python",
   "name": "python3"
  },
  "language_info": {
   "codemirror_mode": {
    "name": "ipython",
    "version": 3
   },
   "file_extension": ".py",
   "mimetype": "text/x-python",
   "name": "python",
   "nbconvert_exporter": "python",
   "pygments_lexer": "ipython3",
   "version": "3.9.7"
  },
  "orig_nbformat": 4
 },
 "nbformat": 4,
 "nbformat_minor": 2
}
