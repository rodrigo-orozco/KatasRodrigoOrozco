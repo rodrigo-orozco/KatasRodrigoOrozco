{
 "cells": [
  {
   "cell_type": "markdown",
   "metadata": {},
   "source": [
    "# Lógica Booleana\n",
    "\n",
    "## Declaraciones `if`\n",
    "\n",
    "Para expresar la lógica condicional en Python, se usan instrucciones `if`. Cuando escribes una declaración `if`, confías en otro concepto, los operadores matemáticos. Python admite los operadores lógicos comunes: igual, no igual, menor que, menor o igual que, mayor que y mayor o igual que:\n",
    "\n",
    "- Iguales: `a == b`\n",
    "- No es igual: `a != b`\n",
    "- Menos que: `a < b`\n",
    "- Menor o igual que: `a <= b`\n",
    "- Mayor que: `a > b`\n",
    "- Mayor o igual que: `a >= b`\n",
    "\n",
    "## Expresiones de Prueba\n",
    "\n",
    "En la siguiente expresión de prueba, se determina si la instrucción evalúa a `True (Verdadero)` o `False (Falso)`. Si es `True`, se ejecuta el siguiente bloque de código con sangría:"
   ]
  },
  {
   "cell_type": "code",
   "execution_count": null,
   "metadata": {},
   "outputs": [],
   "source": [
    "a = 97\n",
    "b = 55\n",
    "\n",
    "# Test expression\n",
    "\n",
    "if a > b:\n",
    "    # Statement to be run\n",
    "    print(b)"
   ]
  },
  {
   "cell_type": "markdown",
   "metadata": {},
   "source": [
    "En Python, el cuerpo de una instrucción `if` debe tener `sangría`. Siempre se ejecutará cualquier código que siga a una expresión de prueba que no tenga sangría:"
   ]
  },
  {
   "cell_type": "code",
   "execution_count": null,
   "metadata": {},
   "outputs": [],
   "source": [
    "a = 24\n",
    "b = 44\n",
    "\n",
    "if a <= 0:\n",
    "    print(a)\n",
    "\n",
    "print(b)"
   ]
  }
 ],
 "metadata": {
  "interpreter": {
   "hash": "dc90aa2a9f8aebcecb7ae25ef8805dd0aea1fa32fd6a69b8548f8d5884194496"
  },
  "kernelspec": {
   "display_name": "Python 3.9.7 ('base')",
   "language": "python",
   "name": "python3"
  },
  "language_info": {
   "codemirror_mode": {
    "name": "ipython",
    "version": 3
   },
   "file_extension": ".py",
   "mimetype": "text/x-python",
   "name": "python",
   "nbconvert_exporter": "python",
   "pygments_lexer": "ipython3",
   "version": "3.9.7"
  },
  "orig_nbformat": 4
 },
 "nbformat": 4,
 "nbformat_minor": 2
}
